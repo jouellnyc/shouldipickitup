{
 "cells": [
  {
   "cell_type": "markdown",
   "metadata": {},
   "source": [
    "# Rule 1 - Web Scraping - Part 2\n",
    "***"
   ]
  },
  {
   "cell_type": "markdown",
   "metadata": {},
   "source": [
    "# Recap\n",
    "\n",
    "Recall from our [Lesson 1](https://github.com/modulusmath/Finance/blob/master/Rule%20%231%20Financial%20Scraping%20-%20Crash%20Course%20-%20Part%20%231.ipynb)  we connected to the **Market Web** site, downloaded **Revenue** for symbol **'goog'**, parsed HTML and pulled out **revenue** data.  "
   ]
  },
  {
   "cell_type": "markdown",
   "metadata": {},
   "source": [
    "Now, one of our **design goals** is to run without any **tracebacks**, catching error obvious errors to **quickly spot** problems.\n",
    "\n",
    "We got **lucky** in that we saw **no errors**, but what if the server is down or we can't connect? \n",
    "\n",
    "It's unlikely a large site is completely down but it's best to be *__**prepared**__*."
   ]
  },
  {
   "cell_type": "markdown",
   "metadata": {},
   "source": [
    "# HTTP / Network Error Checking"
   ]
  },
  {
   "cell_type": "markdown",
   "metadata": {},
   "source": [
    "Setting up our request object again:"
   ]
  },
  {
   "cell_type": "code",
   "execution_count": 8,
   "metadata": {
    "collapsed": true
   },
   "outputs": [],
   "source": [
    "import requests"
   ]
  },
  {
   "cell_type": "code",
   "execution_count": 43,
   "metadata": {
    "collapsed": true
   },
   "outputs": [],
   "source": [
    "url =\"http://www.marketwatch.com/investing/stock/goog/financials/\""
   ]
  },
  {
   "cell_type": "code",
   "execution_count": 44,
   "metadata": {
    "collapsed": true
   },
   "outputs": [],
   "source": [
    "r = requests.get(url,timeout=10)"
   ]
  },
  {
   "cell_type": "markdown",
   "metadata": {},
   "source": [
    "Instead of making an attempt straight away, we'll ['try'](https://docs.python.org/3/tutorial/errors.html) it:"
   ]
  },
  {
   "cell_type": "code",
   "execution_count": 21,
   "metadata": {
    "collapsed": true
   },
   "outputs": [],
   "source": [
    "import sys\n",
    "\n",
    "def err_web(url):\n",
    "    \"\"\" Catch the Errors from the Web Connections             \"\"\"\n",
    "    \"\"\" All or nothing here: If not 200 OK - exit the program \"\"\"\n",
    "    try:\n",
    "        r = requests.get(url,timeout=10)\n",
    "        r.raise_for_status()\n",
    "    except requests.exceptions.HTTPError as errh:\n",
    "        print (\"HTTP Error:\",errh)\n",
    "        return errh\n",
    "    except requests.exceptions.ConnectionError as errc:\n",
    "        print (\"Fatal Error Connecting:\",errc)\n",
    "        return errc\n",
    "    except requests.exceptions.Timeout as errt:\n",
    "        print (\"Timeout Error:\",errt)\n",
    "        return errt\n",
    "    except requests.exceptions.RequestException as err:\n",
    "        print (\"OOps: Something Else\",err)\n",
    "        return err \n",
    "    else:\n",
    "        return r"
   ]
  },
  {
   "cell_type": "markdown",
   "metadata": {},
   "source": [
    "If requests.get returns an **exception**, we'll **catch it**. \n",
    "\n",
    "First though, we'll **[raise_for_status()](http://docs.python-requests.org/en/master/user/quickstart/)** to capture any **HTTP errors**, then we explictly check for **TimeOuts** and **Connection Failures**. "
   ]
  },
  {
   "cell_type": "markdown",
   "metadata": {},
   "source": [
    "Let's see:"
   ]
  },
  {
   "cell_type": "code",
   "execution_count": 23,
   "metadata": {},
   "outputs": [
    {
     "name": "stdout",
     "output_type": "stream",
     "text": [
      "HTTP Error: 404 Client Error: Not Found for url: https://www.marketwatch.com/investing/stock/goog/financialsZZ/\n"
     ]
    }
   ],
   "source": [
    "response = err_web(\"http://www.marketwatch.com/investing/stock/goog/financialsZZ/\")"
   ]
  },
  {
   "cell_type": "code",
   "execution_count": 24,
   "metadata": {},
   "outputs": [
    {
     "name": "stdout",
     "output_type": "stream",
     "text": [
      "404 Client Error: Not Found for url: https://www.marketwatch.com/investing/stock/goog/financialsZZ/\n"
     ]
    }
   ],
   "source": [
    "print (response)"
   ]
  },
  {
   "cell_type": "markdown",
   "metadata": {},
   "source": [
    "That's a lot **better** than a **traceback**. Ditto if we can't connect:"
   ]
  },
  {
   "cell_type": "code",
   "execution_count": 27,
   "metadata": {},
   "outputs": [
    {
     "name": "stdout",
     "output_type": "stream",
     "text": [
      "12:07:47\n",
      "Fatal Error Connecting: HTTPConnectionPool(host='1.1.1.1', port=80): Max retries exceeded with url: / (Caused by ConnectTimeoutError(<urllib3.connection.HTTPConnection object at 0x7fc188e6fa58>, 'Connection to 1.1.1.1 timed out. (connect timeout=10)'))\n",
      "12:07:57\n"
     ]
    }
   ],
   "source": [
    "import time;\n",
    "print (time.strftime(\"%H:%M:%S\"))\n",
    "response = err_web(\"http://1.1.1.1/\");\n",
    "print (time.strftime(\"%H:%M:%S\"))"
   ]
  },
  {
   "cell_type": "markdown",
   "metadata": {},
   "source": [
    "10 seconds later we have our answer - **no ugly tracebacks**!"
   ]
  },
  {
   "cell_type": "markdown",
   "metadata": {},
   "source": [
    "# HTML parsing/Beautiful Soup Error Checking"
   ]
  },
  {
   "cell_type": "markdown",
   "metadata": {},
   "source": [
    "Assuming we connected reliably, we have a **requests** object now and  also created a **soup** object, and pulled out some HTML: "
   ]
  },
  {
   "cell_type": "code",
   "execution_count": 122,
   "metadata": {
    "collapsed": true
   },
   "outputs": [],
   "source": [
    "from bs4 import BeautifulSoup as bsoup\n",
    "soup_sales   = bsoup(r.content,\"lxml\")\n",
    "a_href_sales = soup_sales.find('a',attrs={'data-ref':'ratio_SalesNet1YrGrowth'})"
   ]
  },
  {
   "cell_type": "markdown",
   "metadata": {},
   "source": [
    "What if our anchor in the HTML **\"ratio_SalesNet1YrGrowth\"** does not exist? \n",
    "\n",
    "What if MarketWeb changes their **HTML** and **layout**? (hint: they will).    \n",
    "\n",
    "Screen Scraping is an art form like a **sandcastle** at the beach, it's going to **fall down** at some point and you have **little control** when it happens."
   ]
  },
  {
   "cell_type": "markdown",
   "metadata": {},
   "source": [
    "If **Beautiful soup fails to find** the tag you're looking for it returns a *__**NoneType**__*:"
   ]
  },
  {
   "cell_type": "code",
   "execution_count": 101,
   "metadata": {},
   "outputs": [
    {
     "name": "stdout",
     "output_type": "stream",
     "text": [
      "<class 'NoneType'>\n"
     ]
    }
   ],
   "source": [
    "print (type(a_href_sales))"
   ]
  },
  {
   "cell_type": "markdown",
   "metadata": {},
   "source": [
    "That means if you call **find_parent()** on a **NoneType** we'll get an **AttributeError**:"
   ]
  },
  {
   "cell_type": "code",
   "execution_count": 100,
   "metadata": {},
   "outputs": [
    {
     "ename": "AttributeError",
     "evalue": "'NoneType' object has no attribute 'find_parent'",
     "output_type": "error",
     "traceback": [
      "\u001b[0;31m---------------------------------------------------------------------------\u001b[0m",
      "\u001b[0;31mAttributeError\u001b[0m                            Traceback (most recent call last)",
      "\u001b[0;32m<ipython-input-100-b3f89c6fa19f>\u001b[0m in \u001b[0;36m<module>\u001b[0;34m()\u001b[0m\n\u001b[1;32m      2\u001b[0m \u001b[0msoup_sales\u001b[0m   \u001b[0;34m=\u001b[0m \u001b[0mbsoup\u001b[0m\u001b[0;34m(\u001b[0m\u001b[0mr\u001b[0m\u001b[0;34m.\u001b[0m\u001b[0mcontent\u001b[0m\u001b[0;34m,\u001b[0m\u001b[0;34m\"lxml\"\u001b[0m\u001b[0;34m)\u001b[0m\u001b[0;34m\u001b[0m\u001b[0m\n\u001b[1;32m      3\u001b[0m \u001b[0ma_href_sales\u001b[0m \u001b[0;34m=\u001b[0m \u001b[0msoup_sales\u001b[0m\u001b[0;34m.\u001b[0m\u001b[0mfind\u001b[0m\u001b[0;34m(\u001b[0m\u001b[0;34m'a'\u001b[0m\u001b[0;34m,\u001b[0m\u001b[0mattrs\u001b[0m\u001b[0;34m=\u001b[0m\u001b[0;34m{\u001b[0m\u001b[0;34m'data-ref'\u001b[0m\u001b[0;34m:\u001b[0m\u001b[0;34m'ratio_SalesNet1YrGrowthOOps'\u001b[0m\u001b[0;34m}\u001b[0m\u001b[0;34m)\u001b[0m\u001b[0;34m\u001b[0m\u001b[0m\n\u001b[0;32m----> 4\u001b[0;31m \u001b[0msales_td_parent\u001b[0m \u001b[0;34m=\u001b[0m \u001b[0ma_href_sales\u001b[0m\u001b[0;34m.\u001b[0m\u001b[0mfind_parent\u001b[0m\u001b[0;34m(\u001b[0m\u001b[0;34m)\u001b[0m\u001b[0;34m\u001b[0m\u001b[0m\n\u001b[0m",
      "\u001b[0;31mAttributeError\u001b[0m: 'NoneType' object has no attribute 'find_parent'"
     ]
    }
   ],
   "source": [
    "from bs4 import BeautifulSoup as bsoup\n",
    "soup_sales   = bsoup(r.content,\"lxml\")\n",
    "a_href_sales = soup_sales.find('a',attrs={'data-ref':'ratio_SalesNet1YrGrowthOOps'})\n",
    "sales_td_parent = a_href_sales.find_parent()\n"
   ]
  },
  {
   "cell_type": "markdown",
   "metadata": {},
   "source": [
    "We'll need to **catch the Exception** and handle it gracefully:"
   ]
  },
  {
   "cell_type": "code",
   "execution_count": 123,
   "metadata": {
    "collapsed": true
   },
   "outputs": [],
   "source": [
    "def get_rev(soup_sales):    \n",
    "    \"\"\"                      Revenue                       \"\"\"\n",
    "    revenue_master=[]\n",
    "        \n",
    "    a_href_sales = soup_sales.find('a',attrs={'data-ref':'ratio_SalesNet1YrGrowth'})\n",
    "    \"\"\" If we got here the http call succeeded so we will have a valid soup object  \n",
    "        However, if no content found in a soup obj, bsoup returns a NoneType.\n",
    "        So worst case a_href_sales becomes NoneType, but we don't kick up an AttributeError here.\n",
    "    \"\"\"\n",
    "    try:\n",
    "        \"\"\" if the soup object is null we will kick up the AttributeError here, so we try and group together.\"\"\"\n",
    "        sales_td_parent = a_href_sales.find_parent()\n",
    "        sales_data_links = sales_td_parent.find_next_siblings(\"td\",attrs={'class':'valueCell'})\n",
    "    except AttributeError as e:\n",
    "        print(\"No Sales data web patterns found\")\n",
    "        print(\"\")    \n",
    "        return revenue_master\n",
    "    else:\n",
    "        #sales_data_links still could be a NoneType\n",
    "        if sales_data_links is not None:\n",
    "            for link in sales_data_links:\n",
    "                     rev_val=link.string\n",
    "                     revenue_master.append(rev_val)   \n",
    "        return revenue_master"
   ]
  },
  {
   "cell_type": "markdown",
   "metadata": {},
   "source": [
    "Hence, we group both soup calls together and **bail** if so, alerting the **user**. Also note that even if sales_td_parent contains data, **sales_data_links still could be a NoneType** so we explictly check that as well."
   ]
  },
  {
   "cell_type": "code",
   "execution_count": 124,
   "metadata": {},
   "outputs": [
    {
     "data": {
      "text/plain": [
       "['49.96B', '59.73B', '65.83B', '73.59B', '89.73B']"
      ]
     },
     "execution_count": 124,
     "metadata": {},
     "output_type": "execute_result"
    }
   ],
   "source": [
    "get_rev(soup_sales)"
   ]
  },
  {
   "cell_type": "markdown",
   "metadata": {},
   "source": [
    "In this case we get all the data we are looking for. Nice."
   ]
  },
  {
   "cell_type": "markdown",
   "metadata": {},
   "source": [
    "# Validating Data"
   ]
  },
  {
   "cell_type": "markdown",
   "metadata": {},
   "source": [
    "The data we receive for Sales/Revenue was: **['49.96B', '59.73B', '65.83B', '73.59B', '89.73B']**   \n",
    "\n",
    "**Wonderful** but...\n",
    "    "
   ]
  },
  {
   "cell_type": "markdown",
   "metadata": {},
   "source": [
    "Q: How can we be so sure it will **always** be good **'as it is'**?\n",
    "A: We can't\n",
    "\n",
    "Q: What if some of the numbers are **negative**? \n",
    "A: Maybe they are prepended with **'-'**. Maybe they are enclosed in **braces**: (). Maybe both! Lions and tigers and bears, oh my!\n",
    "\n",
    "Q: What if a company reports in Millions, Thousands? lowercase? Both Millions **and** Billions? \n",
    "A: We'll need to catch all of those facts."
   ]
  },
  {
   "cell_type": "code",
   "execution_count": 103,
   "metadata": {
    "collapsed": true
   },
   "outputs": [],
   "source": [
    "import re\n",
    "\n",
    "def check_data(data):\n",
    "    \"\"\" Return a Number and a Denomination Value (typically M or B)    \"\"\"\n",
    "    \"\"\" Ensure each list is filled by returning NAJO if no match       \"\"\"\n",
    "\n",
    "    mynanstring='NA'\n",
    "    if data is None:\n",
    "        return None,None\n",
    "    else:\n",
    "        data_pat=re.compile(\"([-(]?[-(]?[0-9,]+\\.?[0-9]{,2})([mMbB]?)\")\n",
    "        data_is_valid=data_pat.search(data)\n",
    "        if data_is_valid:\n",
    "            num   = data_is_valid.group(1)\n",
    "            denom = data_is_valid.group(2)\n",
    "            brc_pat=re.compile(\"\\(\")           \n",
    "            braces=brc_pat.search(num)\n",
    "            num = num.replace('(',\"\")\n",
    "            num = num.replace(')',\"\")\n",
    "            num = num.replace(\",\",\"\")\n",
    "                    \n",
    "            if denom:\n",
    "                denom_val=denom\n",
    "            else:\n",
    "                denom_val=None\n",
    "            \n",
    "            if braces:\n",
    "                neg_pat=re.compile(\"-\")\n",
    "                is_neg_already=neg_pat.search(num)\n",
    "                if is_neg_already:\n",
    "                    return  float(num),denom_val\n",
    "                else:\n",
    "                    return -float(num),denom_val\n",
    "            else:\n",
    "                return float(num),denom_val\n",
    "        else:\n",
    "            return mynanstring,mynanstring"
   ]
  },
  {
   "cell_type": "markdown",
   "metadata": {},
   "source": [
    "We'll pass each of the values into **check_data()** and return either a **float** and a **denomination value** or a custom **\"Not a Number\"** string you can set."
   ]
  },
  {
   "cell_type": "markdown",
   "metadata": {},
   "source": [
    "Let's see:"
   ]
  },
  {
   "cell_type": "code",
   "execution_count": 72,
   "metadata": {
    "collapsed": true
   },
   "outputs": [],
   "source": [
    "rev=['49.96B', '59.73B', '65.83B', '73.59B', '89.73B']"
   ]
  },
  {
   "cell_type": "code",
   "execution_count": 82,
   "metadata": {},
   "outputs": [
    {
     "name": "stdout",
     "output_type": "stream",
     "text": [
      "49.96 B\n",
      "59.73 B\n",
      "65.83 B\n",
      "73.59 B\n",
      "89.73 B\n"
     ]
    }
   ],
   "source": [
    "for value in rev:\n",
    "    num,den = check_data(value)\n",
    "    print (num,den)"
   ]
  },
  {
   "cell_type": "code",
   "execution_count": 113,
   "metadata": {},
   "outputs": [
    {
     "name": "stdout",
     "output_type": "stream",
     "text": [
      "-49.96 m\n",
      "-59.73 M\n",
      "65.83 m\n",
      "-73.59 M\n",
      "NA NA\n",
      "NA NA\n",
      "-8.0 B\n",
      "NA NA\n"
     ]
    }
   ],
   "source": [
    "rev=['(-49.96m)', '-59.73M', '65.83m', '-(73.59M)', 'HHHHH','-(W!)','(8B)','$$$$$']\n",
    "for value in rev:\n",
    "    num,den = check_data(value)\n",
    "    print (num,den)    "
   ]
  },
  {
   "cell_type": "markdown",
   "metadata": {},
   "source": [
    "Great! **No matter** what sequence of dashes and braces we see, we return a **negative number** when **appropriate** and NA if other things get tossed in there."
   ]
  },
  {
   "cell_type": "markdown",
   "metadata": {},
   "source": [
    "In the **next lesson** we'll look at diplaying the data, calculating growth rates and finally plotting the data we receive."
   ]
  },
  {
   "cell_type": "code",
   "execution_count": null,
   "metadata": {
    "collapsed": true
   },
   "outputs": [],
   "source": []
  }
 ],
 "metadata": {
  "kernelspec": {
   "display_name": "Python 3",
   "language": "python",
   "name": "python3"
  },
  "language_info": {
   "codemirror_mode": {
    "name": "ipython",
    "version": 3
   },
   "file_extension": ".py",
   "mimetype": "text/x-python",
   "name": "python",
   "nbconvert_exporter": "python",
   "pygments_lexer": "ipython3",
   "version": "3.6.2"
  }
 },
 "nbformat": 4,
 "nbformat_minor": 2
}
